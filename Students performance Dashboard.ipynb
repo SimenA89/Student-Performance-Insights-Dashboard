{
 "cells": [
  {
   "cell_type": "markdown",
   "id": "b7a42b40",
   "metadata": {},
   "source": [
    "# Data Visualisation of Stundents Performance dataset"
   ]
  },
  {
   "cell_type": "markdown",
   "id": "395e87e8",
   "metadata": {},
   "source": [
    "## Importing data and checking it"
   ]
  },
  {
   "cell_type": "code",
   "execution_count": 4,
   "id": "34ee90ca",
   "metadata": {},
   "outputs": [
    {
     "data": {
      "text/html": [
       "<div>\n",
       "<style scoped>\n",
       "    .dataframe tbody tr th:only-of-type {\n",
       "        vertical-align: middle;\n",
       "    }\n",
       "\n",
       "    .dataframe tbody tr th {\n",
       "        vertical-align: top;\n",
       "    }\n",
       "\n",
       "    .dataframe thead th {\n",
       "        text-align: right;\n",
       "    }\n",
       "</style>\n",
       "<table border=\"1\" class=\"dataframe\">\n",
       "  <thead>\n",
       "    <tr style=\"text-align: right;\">\n",
       "      <th></th>\n",
       "      <th>gender</th>\n",
       "      <th>race/ethnicity</th>\n",
       "      <th>parental level of education</th>\n",
       "      <th>lunch</th>\n",
       "      <th>test preparation course</th>\n",
       "      <th>math score</th>\n",
       "      <th>reading score</th>\n",
       "      <th>writing score</th>\n",
       "    </tr>\n",
       "  </thead>\n",
       "  <tbody>\n",
       "    <tr>\n",
       "      <th>0</th>\n",
       "      <td>female</td>\n",
       "      <td>group B</td>\n",
       "      <td>bachelor's degree</td>\n",
       "      <td>standard</td>\n",
       "      <td>none</td>\n",
       "      <td>72</td>\n",
       "      <td>72</td>\n",
       "      <td>74</td>\n",
       "    </tr>\n",
       "    <tr>\n",
       "      <th>1</th>\n",
       "      <td>female</td>\n",
       "      <td>group C</td>\n",
       "      <td>some college</td>\n",
       "      <td>standard</td>\n",
       "      <td>completed</td>\n",
       "      <td>69</td>\n",
       "      <td>90</td>\n",
       "      <td>88</td>\n",
       "    </tr>\n",
       "    <tr>\n",
       "      <th>2</th>\n",
       "      <td>female</td>\n",
       "      <td>group B</td>\n",
       "      <td>master's degree</td>\n",
       "      <td>standard</td>\n",
       "      <td>none</td>\n",
       "      <td>90</td>\n",
       "      <td>95</td>\n",
       "      <td>93</td>\n",
       "    </tr>\n",
       "    <tr>\n",
       "      <th>3</th>\n",
       "      <td>male</td>\n",
       "      <td>group A</td>\n",
       "      <td>associate's degree</td>\n",
       "      <td>free/reduced</td>\n",
       "      <td>none</td>\n",
       "      <td>47</td>\n",
       "      <td>57</td>\n",
       "      <td>44</td>\n",
       "    </tr>\n",
       "    <tr>\n",
       "      <th>4</th>\n",
       "      <td>male</td>\n",
       "      <td>group C</td>\n",
       "      <td>some college</td>\n",
       "      <td>standard</td>\n",
       "      <td>none</td>\n",
       "      <td>76</td>\n",
       "      <td>78</td>\n",
       "      <td>75</td>\n",
       "    </tr>\n",
       "  </tbody>\n",
       "</table>\n",
       "</div>"
      ],
      "text/plain": [
       "   gender race/ethnicity parental level of education         lunch  \\\n",
       "0  female        group B           bachelor's degree      standard   \n",
       "1  female        group C                some college      standard   \n",
       "2  female        group B             master's degree      standard   \n",
       "3    male        group A          associate's degree  free/reduced   \n",
       "4    male        group C                some college      standard   \n",
       "\n",
       "  test preparation course  math score  reading score  writing score  \n",
       "0                    none          72             72             74  \n",
       "1               completed          69             90             88  \n",
       "2                    none          90             95             93  \n",
       "3                    none          47             57             44  \n",
       "4                    none          76             78             75  "
      ]
     },
     "execution_count": 4,
     "metadata": {},
     "output_type": "execute_result"
    }
   ],
   "source": [
    "import pandas as pd\n",
    "\n",
    "# Enter the path to the dataset\n",
    "dataset_path = 'C:/Users/simen/Prosjekter/dataVisualizationPython/StudentsPerformance.csv'\n",
    "\n",
    "# Load the dataset as a Pandas DataFrame\n",
    "data = pd.read_csv(dataset_path)\n",
    "\n",
    "# Display the first five rows to ensure that the data is loaded correctly\n",
    "data.head()\n"
   ]
  },
  {
   "cell_type": "code",
   "execution_count": 5,
   "id": "8631f2ee",
   "metadata": {},
   "outputs": [
    {
     "data": {
      "text/plain": [
       "gender                         0\n",
       "race/ethnicity                 0\n",
       "parental level of education    0\n",
       "lunch                          0\n",
       "test preparation course        0\n",
       "math score                     0\n",
       "reading score                  0\n",
       "writing score                  0\n",
       "dtype: int64"
      ]
     },
     "execution_count": 5,
     "metadata": {},
     "output_type": "execute_result"
    }
   ],
   "source": [
    "# Checking for missing values\n",
    "missing_values = data.isnull().sum()\n",
    "missing_values"
   ]
  },
  {
   "cell_type": "code",
   "execution_count": 6,
   "id": "217b18ff",
   "metadata": {},
   "outputs": [
    {
     "data": {
      "text/plain": [
       "gender                         object\n",
       "race/ethnicity                 object\n",
       "parental level of education    object\n",
       "lunch                          object\n",
       "test preparation course        object\n",
       "math score                      int64\n",
       "reading score                   int64\n",
       "writing score                   int64\n",
       "dtype: object"
      ]
     },
     "execution_count": 6,
     "metadata": {},
     "output_type": "execute_result"
    }
   ],
   "source": [
    "# Check data types\n",
    "data.dtypes"
   ]
  },
  {
   "cell_type": "code",
   "execution_count": 7,
   "id": "3dac94ea",
   "metadata": {},
   "outputs": [
    {
     "data": {
      "text/html": [
       "<div>\n",
       "<style scoped>\n",
       "    .dataframe tbody tr th:only-of-type {\n",
       "        vertical-align: middle;\n",
       "    }\n",
       "\n",
       "    .dataframe tbody tr th {\n",
       "        vertical-align: top;\n",
       "    }\n",
       "\n",
       "    .dataframe thead th {\n",
       "        text-align: right;\n",
       "    }\n",
       "</style>\n",
       "<table border=\"1\" class=\"dataframe\">\n",
       "  <thead>\n",
       "    <tr style=\"text-align: right;\">\n",
       "      <th></th>\n",
       "      <th>math score</th>\n",
       "      <th>reading score</th>\n",
       "      <th>writing score</th>\n",
       "    </tr>\n",
       "  </thead>\n",
       "  <tbody>\n",
       "    <tr>\n",
       "      <th>count</th>\n",
       "      <td>1000.00000</td>\n",
       "      <td>1000.000000</td>\n",
       "      <td>1000.000000</td>\n",
       "    </tr>\n",
       "    <tr>\n",
       "      <th>mean</th>\n",
       "      <td>66.08900</td>\n",
       "      <td>69.169000</td>\n",
       "      <td>68.054000</td>\n",
       "    </tr>\n",
       "    <tr>\n",
       "      <th>std</th>\n",
       "      <td>15.16308</td>\n",
       "      <td>14.600192</td>\n",
       "      <td>15.195657</td>\n",
       "    </tr>\n",
       "    <tr>\n",
       "      <th>min</th>\n",
       "      <td>0.00000</td>\n",
       "      <td>17.000000</td>\n",
       "      <td>10.000000</td>\n",
       "    </tr>\n",
       "    <tr>\n",
       "      <th>25%</th>\n",
       "      <td>57.00000</td>\n",
       "      <td>59.000000</td>\n",
       "      <td>57.750000</td>\n",
       "    </tr>\n",
       "    <tr>\n",
       "      <th>50%</th>\n",
       "      <td>66.00000</td>\n",
       "      <td>70.000000</td>\n",
       "      <td>69.000000</td>\n",
       "    </tr>\n",
       "    <tr>\n",
       "      <th>75%</th>\n",
       "      <td>77.00000</td>\n",
       "      <td>79.000000</td>\n",
       "      <td>79.000000</td>\n",
       "    </tr>\n",
       "    <tr>\n",
       "      <th>max</th>\n",
       "      <td>100.00000</td>\n",
       "      <td>100.000000</td>\n",
       "      <td>100.000000</td>\n",
       "    </tr>\n",
       "  </tbody>\n",
       "</table>\n",
       "</div>"
      ],
      "text/plain": [
       "       math score  reading score  writing score\n",
       "count  1000.00000    1000.000000    1000.000000\n",
       "mean     66.08900      69.169000      68.054000\n",
       "std      15.16308      14.600192      15.195657\n",
       "min       0.00000      17.000000      10.000000\n",
       "25%      57.00000      59.000000      57.750000\n",
       "50%      66.00000      70.000000      69.000000\n",
       "75%      77.00000      79.000000      79.000000\n",
       "max     100.00000     100.000000     100.000000"
      ]
     },
     "execution_count": 7,
     "metadata": {},
     "output_type": "execute_result"
    }
   ],
   "source": [
    "data.describe()"
   ]
  },
  {
   "cell_type": "code",
   "execution_count": 8,
   "id": "82ece87e",
   "metadata": {},
   "outputs": [
    {
     "data": {
      "text/plain": [
       "gender\n",
       "female    518\n",
       "male      482\n",
       "dtype: int64"
      ]
     },
     "execution_count": 8,
     "metadata": {},
     "output_type": "execute_result"
    }
   ],
   "source": [
    "data.value_counts('gender')"
   ]
  },
  {
   "cell_type": "code",
   "execution_count": 9,
   "id": "369838d5",
   "metadata": {},
   "outputs": [
    {
     "data": {
      "text/plain": [
       "race/ethnicity\n",
       "group C    319\n",
       "group D    262\n",
       "group B    190\n",
       "group E    140\n",
       "group A     89\n",
       "dtype: int64"
      ]
     },
     "execution_count": 9,
     "metadata": {},
     "output_type": "execute_result"
    }
   ],
   "source": [
    "data.value_counts('race/ethnicity')"
   ]
  },
  {
   "cell_type": "code",
   "execution_count": 10,
   "id": "3e337e4b",
   "metadata": {},
   "outputs": [
    {
     "data": {
      "text/plain": [
       "parental level of education\n",
       "some college          226\n",
       "associate's degree    222\n",
       "high school           196\n",
       "some high school      179\n",
       "bachelor's degree     118\n",
       "master's degree        59\n",
       "dtype: int64"
      ]
     },
     "execution_count": 10,
     "metadata": {},
     "output_type": "execute_result"
    }
   ],
   "source": [
    "data.value_counts('parental level of education')"
   ]
  },
  {
   "cell_type": "code",
   "execution_count": 11,
   "id": "b0e42378",
   "metadata": {},
   "outputs": [
    {
     "data": {
      "text/plain": [
       "lunch\n",
       "standard        645\n",
       "free/reduced    355\n",
       "dtype: int64"
      ]
     },
     "execution_count": 11,
     "metadata": {},
     "output_type": "execute_result"
    }
   ],
   "source": [
    "data.value_counts('lunch')"
   ]
  },
  {
   "cell_type": "code",
   "execution_count": 12,
   "id": "137123c5",
   "metadata": {},
   "outputs": [
    {
     "data": {
      "text/plain": [
       "test preparation course\n",
       "none         642\n",
       "completed    358\n",
       "dtype: int64"
      ]
     },
     "execution_count": 12,
     "metadata": {},
     "output_type": "execute_result"
    }
   ],
   "source": [
    "data.value_counts('test preparation course')"
   ]
  },
  {
   "cell_type": "code",
   "execution_count": 13,
   "id": "147dc378",
   "metadata": {},
   "outputs": [
    {
     "name": "stdout",
     "output_type": "stream",
     "text": [
      "Number of duplicates: 0\n"
     ]
    }
   ],
   "source": [
    "duplicates = data.duplicated().sum()\n",
    "print(f\"Number of duplicates: {duplicates}\")"
   ]
  },
  {
   "cell_type": "markdown",
   "id": "b3c48029",
   "metadata": {},
   "source": [
    "## Interactive Dashboard"
   ]
  },
  {
   "cell_type": "code",
   "execution_count": 14,
   "id": "5d21d3ea",
   "metadata": {
    "scrolled": false
   },
   "outputs": [
    {
     "data": {
      "text/html": [
       "\n",
       "        <iframe\n",
       "            width=\"100%\"\n",
       "            height=\"650\"\n",
       "            src=\"http://127.0.0.1:8050/\"\n",
       "            frameborder=\"0\"\n",
       "            allowfullscreen\n",
       "            \n",
       "        ></iframe>\n",
       "        "
      ],
      "text/plain": [
       "<IPython.lib.display.IFrame at 0x24d10fb3790>"
      ]
     },
     "metadata": {},
     "output_type": "display_data"
    }
   ],
   "source": [
    "import dash\n",
    "from dash import dcc, html\n",
    "from dash.dependencies import Input, Output\n",
    "import plotly.express as px\n",
    "\n",
    "# Initialiser Dash-appen\n",
    "app = dash.Dash(__name__)\n",
    "\n",
    "# Dropdown-meny for fagvalg\n",
    "subject_dropdown = dcc.Dropdown(\n",
    "    id='subject-dropdown',\n",
    "    options=[\n",
    "        {'label': 'Math Score', 'value': 'math score'},\n",
    "        {'label': 'Reading Score', 'value': 'reading score'},\n",
    "        {'label': 'Writing Score', 'value': 'writing score'}\n",
    "    ],\n",
    "    value='math score'  # Standardvalg\n",
    ")\n",
    "\n",
    "# App layout\n",
    "app.layout = html.Div(children=[\n",
    "    html.H1(\"Student Performance Dashboard\"),\n",
    "    \n",
    "    html.Div(children=[\n",
    "        html.Label(\"Select Subject:\"),\n",
    "        subject_dropdown\n",
    "    ]),\n",
    "    \n",
    "    dcc.Tabs([\n",
    "        dcc.Tab(label='Gender Differences', children=[\n",
    "            dcc.Graph(id='gender-differences-graph'),\n",
    "        ]),\n",
    "        dcc.Tab(label='Lunch Impact', children=[\n",
    "            dcc.Graph(id='lunch-impact-graph'),\n",
    "        ]),\n",
    "        dcc.Tab(label='Parental Education Level', children=[\n",
    "            dcc.Graph(id='parental-education-graph'),\n",
    "        ]),\n",
    "        dcc.Tab(label='Test Preparation Course', children=[\n",
    "            dcc.Graph(id='test-preparation-graph'),\n",
    "        ]),\n",
    "    ])\n",
    "])\n",
    "\n",
    "# Callbacks for updating graphs based on selected subject\n",
    "@app.callback(\n",
    "    [Output('gender-differences-graph', 'figure'),\n",
    "     Output('lunch-impact-graph', 'figure'),\n",
    "     Output('parental-education-graph', 'figure'),\n",
    "     Output('test-preparation-graph', 'figure')],\n",
    "    [Input('subject-dropdown', 'value')])\n",
    "def update_graphs(selected_subject):\n",
    "    gender_fig = px.histogram(data, x=selected_subject, color='gender', barmode='group', title=\"Gender Differences\")\n",
    "    lunch_fig = px.histogram(data, x=selected_subject, color='lunch', barmode='group', title=\"Lunch Impact\")\n",
    "    parental_education_fig = px.box(data, x='parental level of education', y=selected_subject, title=\"Parental Education Level\")\n",
    "    test_preparation_fig = px.box(data, x='test preparation course', y=selected_subject, title=\"Test Preparation Course\")\n",
    "    return gender_fig, lunch_fig, parental_education_fig, test_preparation_fig\n",
    "\n",
    "# Kjør appen\n",
    "if __name__ == '__main__':\n",
    "    app.run_server(debug=True)\n"
   ]
  },
  {
   "cell_type": "code",
   "execution_count": null,
   "id": "a0521bd5",
   "metadata": {},
   "outputs": [],
   "source": []
  }
 ],
 "metadata": {
  "kernelspec": {
   "display_name": "Python 3 (ipykernel)",
   "language": "python",
   "name": "python3"
  },
  "language_info": {
   "codemirror_mode": {
    "name": "ipython",
    "version": 3
   },
   "file_extension": ".py",
   "mimetype": "text/x-python",
   "name": "python",
   "nbconvert_exporter": "python",
   "pygments_lexer": "ipython3",
   "version": "3.10.9"
  }
 },
 "nbformat": 4,
 "nbformat_minor": 5
}
